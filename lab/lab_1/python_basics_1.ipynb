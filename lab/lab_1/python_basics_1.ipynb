{
 "cells": [
  {
   "cell_type": "markdown",
   "metadata": {
    "colab_type": "text",
    "id": "7kIsC6r8pZ-p"
   },
   "source": [
    "# Python Alapok 1"
   ]
  },
  {
   "cell_type": "code",
   "execution_count": 1,
   "metadata": {
    "colab": {
     "base_uri": "https://localhost:8080/",
     "height": 34
    },
    "colab_type": "code",
    "id": "P-9pYQB_pZIP",
    "outputId": "f6b30394-65a2-4d3a-ac0b-096ae1ab28bb"
   },
   "outputs": [
    {
     "name": "stdout",
     "output_type": "stream",
     "text": [
      "Hello World! :)\n"
     ]
    }
   ],
   "source": [
    "print(\"Hello World! :)\")"
   ]
  },
  {
   "cell_type": "markdown",
   "metadata": {
    "colab_type": "text",
    "id": "J3bB9sMtp-Ml"
   },
   "source": [
    "## Egyszerű számítások"
   ]
  },
  {
   "cell_type": "code",
   "execution_count": 2,
   "metadata": {
    "colab": {
     "base_uri": "https://localhost:8080/",
     "height": 34
    },
    "colab_type": "code",
    "id": "q58zv2D_p25Y",
    "outputId": "9f6d5ac3-1094-4722-ad04-afc3dfaf6bf2"
   },
   "outputs": [
    {
     "name": "stdout",
     "output_type": "stream",
     "text": [
      "12 4 9 0\n"
     ]
    }
   ],
   "source": [
    "print(10 + 2, 2 * 2, 3**2, 10 % 2)"
   ]
  },
  {
   "cell_type": "markdown",
   "metadata": {
    "colab_type": "text",
    "id": "eWn8vw2wqMNd"
   },
   "source": [
    "## Változók"
   ]
  },
  {
   "cell_type": "code",
   "execution_count": 3,
   "metadata": {
    "colab": {
     "base_uri": "https://localhost:8080/",
     "height": 52
    },
    "colab_type": "code",
    "id": "d8d5h_UUqINN",
    "outputId": "cc58f641-27b3-4ea7-eabf-f6ccf79dd3c1"
   },
   "outputs": [
    {
     "name": "stdout",
     "output_type": "stream",
     "text": [
      "74\n",
      "valami\n"
     ]
    }
   ],
   "source": [
    "a = 42\n",
    "b = 32\n",
    "c = a + b\n",
    "print(c)\n",
    "\n",
    "c = \"valami\"\n",
    "print(c)\n",
    "\n",
    "# print(a + c)  # error"
   ]
  },
  {
   "cell_type": "markdown",
   "metadata": {
    "colab_type": "text",
    "id": "3GwUAL0aqksy"
   },
   "source": [
    "## String műveletek"
   ]
  },
  {
   "cell_type": "code",
   "execution_count": 5,
   "metadata": {
    "colab": {
     "base_uri": "https://localhost:8080/",
     "height": 86
    },
    "colab_type": "code",
    "id": "BiebZCmFqb3T",
    "outputId": "168cf3fc-e2c2-4364-e1a7-3f5b3f354dc0"
   },
   "outputs": [
    {
     "name": "stdout",
     "output_type": "stream",
     "text": [
      "ALMA\n",
      "True\n",
      "Decimal Number: 12, Float: 33.4, String: almafa\n",
      "... B ... A ...\n"
     ]
    }
   ],
   "source": [
    "print(\"alma\".upper())\n",
    "print(\"LO\" in \"Hello\".upper())\n",
    "print(f\"Decimal Number: {12}, Float: {33.4}, String: {'almafa'}\")\n",
    "print(\"... {1} ... {0} ...\".format(\"A\", \"B\"))"
   ]
  },
  {
   "cell_type": "markdown",
   "metadata": {
    "colab_type": "text",
    "id": "WPmPU2ABr_c1"
   },
   "source": [
    "## Listák"
   ]
  },
  {
   "cell_type": "code",
   "execution_count": 7,
   "metadata": {
    "colab": {
     "base_uri": "https://localhost:8080/",
     "height": 208
    },
    "colab_type": "code",
    "id": "twPzP_Euqwss",
    "outputId": "14801cfc-416a-458d-d4e7-cd8548565d48"
   },
   "outputs": [
    {
     "name": "stdout",
     "output_type": "stream",
     "text": [
      "[12, 31, 27, '48', 54]\n",
      "12\n",
      "54\n",
      "[12, 31, 27, '48', 54, 22, 67]\n",
      "5\n",
      "~~~~~~~~~~~~~~~~~~~~~~~~~~~~~~~~~\n",
      "6\n",
      "~~~~~~~~~~~~~~~~~~~~~~~~~~~~~~~~~\n",
      "[27, '48', 54, 89]\n",
      "~~~~~~~~~~~~~~~~~~~~~~~~~~~~~~~~~\n",
      "[12, 31, '48', 54, 89]\n",
      "12\n"
     ]
    }
   ],
   "source": [
    "players = [12, 31, 27, '48', 54]\n",
    "print(players)\n",
    "print(players[0])\n",
    "print(players[-1])\n",
    "print(players + [22, 67])\n",
    "print(len(players))\n",
    "\n",
    "print(\"~~~~~~~~~~~~~~~~~~~~~~~~~~~~~~~~~\")\n",
    "\n",
    "players.append(89)\n",
    "print(len(players))\n",
    "\n",
    "print(\"~~~~~~~~~~~~~~~~~~~~~~~~~~~~~~~~~\")\n",
    "\n",
    "print(players[2:])\n",
    "\n",
    "print(\"~~~~~~~~~~~~~~~~~~~~~~~~~~~~~~~~~\")\n",
    "\n",
    "del players[2]\n",
    "print(players)\n",
    "x = players.pop(0)\n",
    "print(x)"
   ]
  },
  {
   "cell_type": "markdown",
   "metadata": {
    "colab_type": "text",
    "id": "qaoQfIJ3stMq"
   },
   "source": [
    "## Tuple–nem módosítható lista"
   ]
  },
  {
   "cell_type": "code",
   "execution_count": null,
   "metadata": {
    "colab": {
     "base_uri": "https://localhost:8080/",
     "height": 34
    },
    "colab_type": "code",
    "id": "oIitmfqpsTBZ",
    "outputId": "943e6283-7ee6-4c3f-d397-74d4f3f1f10a"
   },
   "outputs": [
    {
     "data": {
      "text/plain": [
       "[12, 31, 27, '48', 54]"
      ]
     },
     "execution_count": 3,
     "metadata": {
      "tags": []
     },
     "output_type": "execute_result"
    }
   ],
   "source": [
    "players = (12, 31, 27, '48', 54)\n",
    "# players[2] = 'alma'  # error\n",
    "# del players[2]  # error\n",
    "players[2:]"
   ]
  },
  {
   "cell_type": "markdown",
   "metadata": {
    "colab_type": "text",
    "id": "5UhBATsVtJuT"
   },
   "source": [
    "## Halmazok"
   ]
  },
  {
   "cell_type": "code",
   "execution_count": 8,
   "metadata": {
    "colab": {
     "base_uri": "https://localhost:8080/",
     "height": 86
    },
    "colab_type": "code",
    "id": "KW7yzbonszsQ",
    "outputId": "9a697005-b16d-4a23-cc60-bfdfff0487fd"
   },
   "outputs": [
    {
     "name": "stdout",
     "output_type": "stream",
     "text": [
      "[8, 3, 2, 3, 2, 4, 6, 8, 2]\n",
      "{2, 3, 4, 6, 8}\n",
      "~~~~~~~~~~~~~~~~~~~~~~~~~~~~~~~~~\n",
      "[2, 2, 2, 3, 3, 4, 6, 8, 8]\n"
     ]
    }
   ],
   "source": [
    "my_list = [8, 3, 2, 3, 2, 4, 6, 8, 2]\n",
    "my_set= set(my_list)\n",
    "print(my_list)\n",
    "print(my_set)\n",
    "\n",
    "print(\"~~~~~~~~~~~~~~~~~~~~~~~~~~~~~~~~~\")\n",
    "\n",
    "print(sorted(my_list))"
   ]
  },
  {
   "cell_type": "markdown",
   "metadata": {
    "colab_type": "text",
    "id": "yjcajOTotwxU"
   },
   "source": [
    "## Szótár (dict)"
   ]
  },
  {
   "cell_type": "code",
   "execution_count": 9,
   "metadata": {
    "colab": {
     "base_uri": "https://localhost:8080/",
     "height": 86
    },
    "colab_type": "code",
    "id": "nUsXFsJvtQ8J",
    "outputId": "3faf5bae-80fb-462d-eb57-1b989701d097"
   },
   "outputs": [
    {
     "name": "stdout",
     "output_type": "stream",
     "text": [
      "5\n",
      "xxxxxxx Chihiro\n",
      "True\n",
      "False\n"
     ]
    }
   ],
   "source": [
    "team = {\n",
    "    91: \"Ayers, Robert\",\n",
    "    13: \"Beckham Jr,\",\n",
    "    3: \"Brown, Josh\",\n",
    "    54: \"Casillas, Jonathan\",\n",
    "    21: \"Collins, Landon\",\n",
    "}\n",
    "\n",
    "print(len(team))\n",
    "team[3] = \"Chihiro\"\n",
    "team[1] = \"xxxxxxx\"\n",
    "print(team[1], team[3])\n",
    "\n",
    "print(91 in team)\n",
    "print(\"alma\" in team)"
   ]
  },
  {
   "cell_type": "code",
   "execution_count": 10,
   "metadata": {
    "colab": {
     "base_uri": "https://localhost:8080/",
     "height": 34
    },
    "colab_type": "code",
    "id": "UZr1cE5NuMDV",
    "outputId": "51ec09eb-ef2d-4334-a734-e126e3886027"
   },
   "outputs": [
    {
     "data": {
      "text/plain": [
       "dict_keys([91, 13, 3, 54, 21, 1])"
      ]
     },
     "execution_count": 10,
     "metadata": {},
     "output_type": "execute_result"
    }
   ],
   "source": [
    "team.keys()"
   ]
  },
  {
   "cell_type": "code",
   "execution_count": 11,
   "metadata": {
    "colab": {
     "base_uri": "https://localhost:8080/",
     "height": 54
    },
    "colab_type": "code",
    "id": "T44saBP5u2s0",
    "outputId": "3924b18d-038e-4255-da5b-e67504c5d779"
   },
   "outputs": [
    {
     "data": {
      "text/plain": [
       "dict_values(['Ayers, Robert', 'Beckham Jr,', 'Chihiro', 'Casillas, Jonathan', 'Collins, Landon', 'xxxxxxx'])"
      ]
     },
     "execution_count": 11,
     "metadata": {},
     "output_type": "execute_result"
    }
   ],
   "source": [
    "team.values()"
   ]
  },
  {
   "cell_type": "markdown",
   "metadata": {
    "colab_type": "text",
    "id": "p2H-FEmQvDQD"
   },
   "source": [
    "## Elágazások"
   ]
  },
  {
   "cell_type": "code",
   "execution_count": 12,
   "metadata": {
    "colab": {
     "base_uri": "https://localhost:8080/",
     "height": 34
    },
    "colab_type": "code",
    "id": "AqFVNrGUvAjv",
    "outputId": "6ead403e-c032-44b4-851b-72364c25e127"
   },
   "outputs": [
    {
     "name": "stdout",
     "output_type": "stream",
     "text": [
      "Neither 100 nor 76 are in the team\n"
     ]
    }
   ],
   "source": [
    "if 100 in team:\n",
    "    print(\"Yes, 100 is in the team\")\n",
    "elif 76 in team:\n",
    "    print(\"100 is not in the temm, but 76 is in it\")\n",
    "else:\n",
    "    print(\"Neither 100 nor 76 are in the team\")"
   ]
  },
  {
   "cell_type": "markdown",
   "metadata": {
    "colab_type": "text",
    "id": "4bpvUwS8v5DS"
   },
   "source": [
    "## Ciklus"
   ]
  },
  {
   "cell_type": "code",
   "execution_count": 15,
   "metadata": {
    "colab": {
     "base_uri": "https://localhost:8080/",
     "height": 469
    },
    "colab_type": "code",
    "id": "oY1Jokb3vzmg",
    "outputId": "191dff8c-dadc-4e51-b858-df3bfed29913"
   },
   "outputs": [
    {
     "name": "stdout",
     "output_type": "stream",
     "text": [
      "Element: 3\n",
      "Element: 65\n",
      "Element: 2\n",
      "Element: 77\n",
      "Element: 9\n",
      "Element: 33\n",
      "~~~~~~~~~~~~~~~~~~~\n",
      "Element 0 : 3\n",
      "Element 1 : 65\n",
      "Element 2 : 2\n",
      "Element 3 : 77\n",
      "Element 4 : 9\n",
      "Element 5 : 33\n",
      "~~~~~~~~~~~~~~~~~~~\n",
      "0\n",
      "1\n",
      "2\n",
      "3\n",
      "4\n",
      "~~~~~~~~~~~~~~~~~~~\n",
      "Name:\t Ayers, Robert \t\tNumber: 91\n",
      "Name:\t Beckham Jr, \t\tNumber: 13\n",
      "Name:\t Chihiro \t\tNumber: 3\n",
      "Name:\t Casillas, Jonathan \t\tNumber: 54\n",
      "Name:\t Collins, Landon \t\tNumber: 21\n",
      "Name:\t xxxxxxx \t\tNumber: 1\n"
     ]
    }
   ],
   "source": [
    "my_list = [3, 65, 2, 77 , 9, 33]\n",
    "\n",
    "for x in my_list:\n",
    "    print(\"Element:\", x)\n",
    "\n",
    "print(\"~~~~~~~~~~~~~~~~~~~\")\n",
    "\n",
    "for i, x in enumerate(my_list):\n",
    "    print(\"Element\", i, \":\", x)\n",
    "\n",
    "print(\"~~~~~~~~~~~~~~~~~~~\")\n",
    "\n",
    "for i in range(5):\n",
    "    print(i)\n",
    "\n",
    "print(\"~~~~~~~~~~~~~~~~~~~\")\n",
    "\n",
    "for k, v in team.items():\n",
    "    print(\"Name:\\t\", v, \"\\t\\tNumber:\", k)"
   ]
  },
  {
   "cell_type": "code",
   "execution_count": 16,
   "metadata": {
    "colab": {
     "base_uri": "https://localhost:8080/",
     "height": 173
    },
    "colab_type": "code",
    "id": "Sbj1fFWlwoDD",
    "outputId": "5bc28f9f-06fe-4c82-a5a0-a3c44eca4af3"
   },
   "outputs": [
    {
     "name": "stdout",
     "output_type": "stream",
     "text": [
      "1\n",
      "2\n",
      "3\n",
      "4\n",
      "5\n",
      "6\n",
      "7\n",
      "8\n",
      "9\n"
     ]
    }
   ],
   "source": [
    "i = 1\n",
    "while i < 10:\n",
    "    print(i)\n",
    "    i += 1"
   ]
  },
  {
   "cell_type": "code",
   "execution_count": 19,
   "metadata": {
    "colab": {},
    "colab_type": "code",
    "id": "SGeh9AEY3J1l"
   },
   "outputs": [
    {
     "name": "stdout",
     "output_type": "stream",
     "text": [
      "(1, 2, 3)\n"
     ]
    }
   ],
   "source": [
    "a = 1, 2, 3\n",
    "print(a)"
   ]
  },
  {
   "cell_type": "code",
   "execution_count": 17,
   "metadata": {
    "colab": {
     "base_uri": "https://localhost:8080/",
     "height": 34
    },
    "colab_type": "code",
    "id": "CIucL49v3-wT",
    "outputId": "c55e2054-2ad6-4fc0-b56a-115136f6eb74"
   },
   "outputs": [
    {
     "data": {
      "text/plain": [
       "[1, 3, 5, 7, 9]"
      ]
     },
     "execution_count": 17,
     "metadata": {},
     "output_type": "execute_result"
    }
   ],
   "source": [
    "# for (int i = 1; i < 10; i += 2) {}\n",
    "list(range(1, 10, 2))"
   ]
  },
  {
   "cell_type": "markdown",
   "metadata": {
    "colab_type": "text",
    "id": "76AJDydlyJv-"
   },
   "source": [
    "## Függvények"
   ]
  },
  {
   "cell_type": "code",
   "execution_count": 21,
   "metadata": {
    "colab": {
     "base_uri": "https://localhost:8080/",
     "height": 86
    },
    "colab_type": "code",
    "id": "EHS2Yp_cyFEo",
    "outputId": "dd95f64d-aa6c-4b35-a5a7-c0e85381e07f"
   },
   "outputs": [
    {
     "name": "stdout",
     "output_type": "stream",
     "text": [
      "Szam: 2\n",
      "Szam: 4\n",
      "Szam: 6\n",
      "Szam: 8\n"
     ]
    }
   ],
   "source": [
    "def is_even(num):\n",
    "    if num % 2 == 0:\n",
    "        return True\n",
    "    else:\n",
    "        return False\n",
    "\n",
    "def is_even(num):\n",
    "    return num % 2 == 0\n",
    "\n",
    "for i in range(1, 10):\n",
    "    if is_even(i):\n",
    "        print(\"Szam:\", i)"
   ]
  },
  {
   "cell_type": "code",
   "execution_count": 22,
   "metadata": {
    "colab": {
     "base_uri": "https://localhost:8080/",
     "height": 69
    },
    "colab_type": "code",
    "id": "HCvjHqgfyeEO",
    "outputId": "143edc5a-9596-4291-ba25-487ca4cebed3"
   },
   "outputs": [
    {
     "name": "stdout",
     "output_type": "stream",
     "text": [
      "(4, 8, 16)\n",
      "4 8 16\n",
      "8\n"
     ]
    }
   ],
   "source": [
    "def multireturn(x):\n",
    "    return x**2, x**3, x**4\n",
    "\n",
    "print(multireturn(2))\n",
    "\n",
    "a, b, c = multireturn(2)\n",
    "print(a, b, c)\n",
    "\n",
    "_, y, _ = multireturn(2)\n",
    "print(y)\n",
    "\n"
   ]
  },
  {
   "cell_type": "markdown",
   "metadata": {
    "colab_type": "text",
    "id": "vMfusIWjzpMH"
   },
   "source": [
    "## Lambda függvények"
   ]
  },
  {
   "cell_type": "code",
   "execution_count": 23,
   "metadata": {
    "colab": {
     "base_uri": "https://localhost:8080/",
     "height": 86
    },
    "colab_type": "code",
    "id": "i5uM97vuzD7d",
    "outputId": "0ca385f3-74af-4a6b-b4f6-2496f30af917"
   },
   "outputs": [
    {
     "name": "stdout",
     "output_type": "stream",
     "text": [
      "Szam: 2\n",
      "Szam: 4\n",
      "Szam: 6\n",
      "Szam: 8\n"
     ]
    }
   ],
   "source": [
    "is_even_lambda = lambda num: (num % 2) == 0\n",
    "\n",
    "for i in range(1, 10):\n",
    "    if is_even(i):\n",
    "        print(\"Szam:\", i)"
   ]
  },
  {
   "cell_type": "markdown",
   "metadata": {
    "colab_type": "text",
    "id": "E73d68ZU0CLt"
   },
   "source": [
    "## Comprehension-ök"
   ]
  },
  {
   "cell_type": "code",
   "execution_count": null,
   "metadata": {
    "colab": {
     "base_uri": "https://localhost:8080/",
     "height": 86
    },
    "colab_type": "code",
    "id": "13-ilh8-z0aA",
    "outputId": "c2f320bd-2a3c-4859-9cbb-a9b5420fb8f7"
   },
   "outputs": [
    {
     "name": "stdout",
     "output_type": "stream",
     "text": [
      "[0, 1, 4, 9, 16, 25, 36, 49, 64, 81]\n",
      "{0: 0, 1: 1, 2: 4, 3: 9, 4: 16}\n",
      "{0: 0, 1: 1, 3: 9, 4: 16}\n",
      "(0, 1, 4)\n"
     ]
    }
   ],
   "source": [
    "print([x * x for x in range(10)])\n",
    "print({x : x*x for x in range(5)})\n",
    "print({x : x*x for x in range(5) if x != 2})\n",
    "# kiértékel, feltételt megnéz, attól függően hozzáad vagy sem\n",
    "print(tuple(x * x for x in range(3)))  # ez egy generator expression belül"
   ]
  },
  {
   "cell_type": "code",
   "execution_count": 25,
   "metadata": {
    "colab": {},
    "colab_type": "code",
    "id": "h2eQtv7w0G-K"
   },
   "outputs": [],
   "source": [
    "# print([10 / x for x in [1, 2, 3, 4, 5, 0]][:4])  # error"
   ]
  },
  {
   "cell_type": "markdown",
   "metadata": {
    "colab_type": "text",
    "id": "dl9aggPw2gJp"
   },
   "source": [
    "## Map"
   ]
  },
  {
   "cell_type": "code",
   "execution_count": 26,
   "metadata": {
    "colab": {
     "base_uri": "https://localhost:8080/",
     "height": 52
    },
    "colab_type": "code",
    "id": "gmhzVkBu0l2E",
    "outputId": "23288644-8922-47ba-c9a9-0ae3607f3b47"
   },
   "outputs": [
    {
     "name": "stdout",
     "output_type": "stream",
     "text": [
      "With map: [97.7, 98.60000000000001, 99.5, 100.4, 102.2]\n",
      "With list comprehension: [97.7, 98.60000000000001, 99.5, 100.4, 102.2]\n",
      "With map: [36.5, 37.00000000000001, 37.5, 38.00000000000001, 39.0]\n",
      "With list comprehension: [36.5, 37.00000000000001, 37.5, 38.00000000000001, 39.0]\n"
     ]
    }
   ],
   "source": [
    "def fahrenheit(T):\n",
    "  return (9 / 5) * T + 32\n",
    "\n",
    "def celsius(T):\n",
    "  return (5 / 9) * (T - 32)\n",
    "\n",
    "temperatures = [36.5, 37, 37.5, 38, 39]\n",
    "print(\"With map:\", list(map(fahrenheit, temperatures)))\n",
    "print(\"With list comprehension:\", [fahrenheit(x) for x in temperatures])\n",
    "\n",
    "print(\"With map:\", list(map(celsius, map(fahrenheit, temperatures))))\n",
    "print(\"With list comprehension:\", [celsius(fahrenheit(x)) for x in temperatures])"
   ]
  },
  {
   "cell_type": "code",
   "execution_count": 28,
   "metadata": {
    "colab": {
     "base_uri": "https://localhost:8080/",
     "height": 104
    },
    "colab_type": "code",
    "id": "TeMQDR3EXn1a",
    "outputId": "02d76b80-b1c8-45f1-9169-c4aec0bc1fb0"
   },
   "outputs": [
    {
     "name": "stdout",
     "output_type": "stream",
     "text": [
      "bar 1\n",
      "bar 2\n",
      "bar 3\n",
      "bar 4\n",
      "bar 5\n"
     ]
    }
   ],
   "source": [
    "# https://stackoverflow.com/questions/21959985/why-cant-python-increment-variable-in-closure\n",
    "def foo():\n",
    "    counter = 0\n",
    "\n",
    "    def bar():\n",
    "        nonlocal counter\n",
    "        counter += 1\n",
    "        print(\"bar\", counter)\n",
    "\n",
    "    return bar\n",
    "\n",
    "bar = foo()\n",
    "for _ in range(5):\n",
    "    bar()"
   ]
  },
  {
   "cell_type": "code",
   "execution_count": 32,
   "metadata": {
    "colab": {
     "base_uri": "https://localhost:8080/",
     "height": 104
    },
    "colab_type": "code",
    "id": "4ro5kB_cYGIg",
    "outputId": "f85eca42-44f6-4b91-8df4-ef1a8e120a01"
   },
   "outputs": [
    {
     "name": "stdout",
     "output_type": "stream",
     "text": [
      "bar 1\n",
      "bar 2\n",
      "bar 3\n",
      "bar 4\n",
      "bar 5\n"
     ]
    }
   ],
   "source": [
    "def foo():\n",
    "    x = [0]\n",
    "\n",
    "    def bar():\n",
    "        # There's no reference re-binding, so we don't need 'nonlocal'\n",
    "        x[0] += 1\n",
    "        print(\"bar\", x[0])\n",
    "\n",
    "    return bar\n",
    "\n",
    "bar = foo()\n",
    "for _ in range(5):\n",
    "    bar()"
   ]
  },
  {
   "cell_type": "code",
   "execution_count": 33,
   "metadata": {
    "colab": {
     "base_uri": "https://localhost:8080/",
     "height": 139
    },
    "colab_type": "code",
    "id": "RJ69D0zV3LKI",
    "outputId": "dc63528d-5945-4c5f-e5f4-8990e15d0cfd"
   },
   "outputs": [
    {
     "name": "stdout",
     "output_type": "stream",
     "text": [
      "'a' is a map object\n",
      "LOG\n",
      "LOG\n",
      "LOG\n",
      "LOG\n",
      "LOG\n"
     ]
    },
    {
     "data": {
      "text/plain": [
       "[2, 4, 6, 8, 10]"
      ]
     },
     "execution_count": 33,
     "metadata": {},
     "output_type": "execute_result"
    }
   ],
   "source": [
    "def double(x):\n",
    "    print(\"LOG\")\n",
    "    return x * 2\n",
    "\n",
    "a = map(double, [1, 2, 3, 4, 5])\n",
    "print(\"'a' is a map object\")\n",
    "list(a)"
   ]
  },
  {
   "cell_type": "markdown",
   "metadata": {
    "colab_type": "text",
    "id": "dUmMfcRd7Cu9"
   },
   "source": [
    "## Beolvasás parancssorból"
   ]
  },
  {
   "cell_type": "code",
   "execution_count": 34,
   "metadata": {
    "colab": {
     "base_uri": "https://localhost:8080/",
     "height": 69
    },
    "colab_type": "code",
    "id": "IrbP3EnY69td",
    "outputId": "0ae82b37-0144-4c2d-fba8-1e5da527154f"
   },
   "outputs": [
    {
     "name": "stdin",
     "output_type": "stream",
     "text": [
      "What is your name?  Bálint\n",
      "How old are you?  21\n"
     ]
    },
    {
     "name": "stdout",
     "output_type": "stream",
     "text": [
      "Bálint 21\n"
     ]
    }
   ],
   "source": [
    "name = input(\"What is your name? \")\n",
    "age = int(input(\"How old are you? \"))\n",
    "print(name, age)"
   ]
  },
  {
   "cell_type": "markdown",
   "metadata": {
    "colab_type": "text",
    "id": "I1pXT4TZ4xFl"
   },
   "source": [
    "## File műveletek"
   ]
  },
  {
   "cell_type": "code",
   "execution_count": 35,
   "metadata": {
    "colab": {},
    "colab_type": "code",
    "id": "0tS07_3g4Nuk"
   },
   "outputs": [],
   "source": [
    "f = open(\"numbers.txt\", \"w\")  # w-write, a-append, r-read\n",
    "for i in range(10):\n",
    "    f.write(f\"{i} {i**2} {i**3} {i**4} {i**5}\\n\")\n",
    "f.close()"
   ]
  },
  {
   "cell_type": "code",
   "execution_count": 36,
   "metadata": {
    "colab": {},
    "colab_type": "code",
    "id": "jDGGYM1D5Nhq"
   },
   "outputs": [
    {
     "name": "stdout",
     "output_type": "stream",
     "text": [
      "0 0 0 0 0\n",
      "1 1 1 1 1\n",
      "2 4 8 16 32\n",
      "3 9 27 81 243\n",
      "4 16 64 256 1024\n",
      "5 25 125 625 3125\n",
      "6 36 216 1296 7776\n",
      "7 49 343 2401 16807\n",
      "8 64 512 4096 32768\n",
      "9 81 729 6561 59049\n",
      "\n"
     ]
    }
   ],
   "source": [
    "f = open(\"numbers.txt\")  # default: 'r'\n",
    "\n",
    "print(f.read())\n",
    "# print(f.readline())\n",
    "# print(f.readlines())\n",
    "\n",
    "f.close()"
   ]
  },
  {
   "cell_type": "code",
   "execution_count": 39,
   "metadata": {
    "colab": {
     "base_uri": "https://localhost:8080/",
     "height": 364
    },
    "colab_type": "code",
    "id": "TfOjZFxA53ZE",
    "outputId": "f5242625-0f5c-4af0-c00c-420de8a89af7"
   },
   "outputs": [
    {
     "name": "stdout",
     "output_type": "stream",
     "text": [
      "0 0 0 0 0\n",
      "1 1 1 1 1\n",
      "2 4 8 16 32\n",
      "3 9 27 81 243\n",
      "4 16 64 256 1024\n",
      "5 25 125 625 3125\n",
      "6 36 216 1296 7776\n",
      "7 49 343 2401 16807\n",
      "8 64 512 4096 32768\n",
      "9 81 729 6561 59049\n"
     ]
    }
   ],
   "source": [
    "with open(\"numbers.txt\") as f:\n",
    "    for line in f:\n",
    "      print(line.rstrip())  # by default, strips remove whitespaces"
   ]
  },
  {
   "cell_type": "code",
   "execution_count": 40,
   "metadata": {
    "colab": {
     "base_uri": "https://localhost:8080/",
     "height": 191
    },
    "colab_type": "code",
    "id": "5tLf-ea56X0y",
    "outputId": "57c033fe-7cf5-446a-d522-390e977e1215"
   },
   "outputs": [
    {
     "data": {
      "text/plain": [
       "[[0, 0, 0, 0, 0],\n",
       " [1, 1, 1, 1, 1],\n",
       " [2, 4, 8, 16, 32],\n",
       " [3, 9, 27, 81, 243],\n",
       " [4, 16, 64, 256, 1024],\n",
       " [5, 25, 125, 625, 3125],\n",
       " [6, 36, 216, 1296, 7776],\n",
       " [7, 49, 343, 2401, 16807],\n",
       " [8, 64, 512, 4096, 32768],\n",
       " [9, 81, 729, 6561, 59049]]"
      ]
     },
     "execution_count": 40,
     "metadata": {},
     "output_type": "execute_result"
    }
   ],
   "source": [
    "with open(\"numbers.txt\") as f:\n",
    "    mtx = [[int(x) for x in line.rstrip().split(\" \")] for line in f]\n",
    "mtx"
   ]
  },
  {
   "cell_type": "markdown",
   "metadata": {
    "colab_type": "text",
    "id": "kJc9QhEhf_iF"
   },
   "source": [
    "## JSON"
   ]
  },
  {
   "cell_type": "code",
   "execution_count": 42,
   "metadata": {
    "colab": {},
    "colab_type": "code",
    "id": "yVrMqyv_6wlx"
   },
   "outputs": [],
   "source": [
    "import json"
   ]
  },
  {
   "cell_type": "code",
   "execution_count": 43,
   "metadata": {
    "colab": {},
    "colab_type": "code",
    "id": "8rK4FnrZhRnB"
   },
   "outputs": [
    {
     "name": "stdout",
     "output_type": "stream",
     "text": [
      "<class 'dict'>\n"
     ]
    }
   ],
   "source": [
    "data = {\n",
    "  \"president\": {\n",
    "    \"name\": \"Zaphod Beeblebrox\",\n",
    "    \"species\": \"Betelgeusian\"\n",
    "  }\n",
    "}\n",
    "print(type(data))\n",
    "\n",
    "with open(\"data_file.json\", \"w\") as write_file:\n",
    "  json.dump(data, write_file)"
   ]
  },
  {
   "cell_type": "code",
   "execution_count": 44,
   "metadata": {
    "colab": {
     "base_uri": "https://localhost:8080/",
     "height": 34
    },
    "colab_type": "code",
    "id": "95eNrCg1ihum",
    "outputId": "5f4ed916-0e37-4110-d89a-1092e80fb804"
   },
   "outputs": [
    {
     "name": "stdout",
     "output_type": "stream",
     "text": [
      "{\"president\": {\"name\": \"Zaphod Beeblebrox\", \"species\": \"Betelgeusian\"}}\n"
     ]
    }
   ],
   "source": [
    "json_string = json.dumps(data)\n",
    "print(json_string)"
   ]
  },
  {
   "cell_type": "code",
   "execution_count": 45,
   "metadata": {
    "colab": {
     "base_uri": "https://localhost:8080/",
     "height": 34
    },
    "colab_type": "code",
    "id": "SaPTrRBRioSV",
    "outputId": "a33812a8-03d3-4bee-b668-7bb6e759d071"
   },
   "outputs": [
    {
     "name": "stdout",
     "output_type": "stream",
     "text": [
      "Zaphod Beeblebrox\n"
     ]
    }
   ],
   "source": [
    "with open(\"data_file.json\") as read_file:\n",
    "  data = json.load(read_file)\n",
    "  print(data[\"president\"][\"name\"])"
   ]
  },
  {
   "cell_type": "code",
   "execution_count": 1,
   "metadata": {
    "colab": {},
    "colab_type": "code",
    "id": "I2plXIb2gouv"
   },
   "outputs": [],
   "source": [
    "json_string = \"\"\"\n",
    "{\n",
    "  \"researcher\": {\n",
    "    \"name\": \"Ford Prefect\",\n",
    "    \"species\": \"Betelgeusian\",\n",
    "    \"relatives\": [{\n",
    "         \"name\": \"Zaphod Beeblebrox\",\n",
    "         \"species\": \"Betelgeusian\",\n",
    "         \"unspecified\": null\n",
    "    }]\n",
    "  }\n",
    "}\n",
    "\"\"\""
   ]
  },
  {
   "cell_type": "code",
   "execution_count": 2,
   "metadata": {
    "colab": {
     "base_uri": "https://localhost:8080/",
     "height": 69
    },
    "colab_type": "code",
    "id": "jH7iY4Ryg7Tz",
    "outputId": "98625b7b-2ac0-48e2-d138-65a1944dc955"
   },
   "outputs": [
    {
     "ename": "NameError",
     "evalue": "name 'json' is not defined",
     "output_type": "error",
     "traceback": [
      "\u001b[1;31m---------------------------------------------------------------------------\u001b[0m",
      "\u001b[1;31mNameError\u001b[0m                                 Traceback (most recent call last)",
      "\u001b[1;32m<ipython-input-2-bf2c5c85279f>\u001b[0m in \u001b[0;36m<module>\u001b[1;34m\u001b[0m\n\u001b[1;32m----> 1\u001b[1;33m \u001b[0mdata\u001b[0m \u001b[1;33m=\u001b[0m \u001b[0mjson\u001b[0m\u001b[1;33m.\u001b[0m\u001b[0mloads\u001b[0m\u001b[1;33m(\u001b[0m\u001b[0mjson_string\u001b[0m\u001b[1;33m)\u001b[0m\u001b[1;33m\u001b[0m\u001b[1;33m\u001b[0m\u001b[0m\n\u001b[0m\u001b[0;32m      2\u001b[0m \u001b[0mdata\u001b[0m\u001b[1;33m\u001b[0m\u001b[1;33m\u001b[0m\u001b[0m\n",
      "\u001b[1;31mNameError\u001b[0m: name 'json' is not defined"
     ]
    }
   ],
   "source": [
    "data = json.loads(json_string)\n",
    "data"
   ]
  },
  {
   "cell_type": "code",
   "execution_count": 48,
   "metadata": {
    "colab": {
     "base_uri": "https://localhost:8080/",
     "height": 34
    },
    "colab_type": "code",
    "id": "-CgBEldUg95E",
    "outputId": "41a9fb76-9e6f-42e6-81a4-270f0afb6492"
   },
   "outputs": [
    {
     "name": "stdout",
     "output_type": "stream",
     "text": [
      "Name: Zaphod Beeblebrox (Betelgeusian)\n"
     ]
    }
   ],
   "source": [
    "for rel in data[\"researcher\"][\"relatives\"]:\n",
    "  print(f\"Name: {rel['name']} ({rel['species']})\")"
   ]
  }
 ],
 "metadata": {
  "colab": {
   "collapsed_sections": [],
   "name": "python_basics_1.ipynb",
   "provenance": []
  },
  "kernelspec": {
   "display_name": "Python 3",
   "language": "python",
   "name": "python3"
  },
  "language_info": {
   "codemirror_mode": {
    "name": "ipython",
    "version": 3
   },
   "file_extension": ".py",
   "mimetype": "text/x-python",
   "name": "python",
   "nbconvert_exporter": "python",
   "pygments_lexer": "ipython3",
   "version": "3.8.3"
  }
 },
 "nbformat": 4,
 "nbformat_minor": 4
}
